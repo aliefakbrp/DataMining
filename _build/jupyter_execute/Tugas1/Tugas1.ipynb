{
 "cells": [
  {
   "cell_type": "code",
   "execution_count": 1,
   "metadata": {
    "colab": {
     "base_uri": "https://localhost:8080/"
    },
    "executionInfo": {
     "elapsed": 4,
     "status": "ok",
     "timestamp": 1661601686854,
     "user": {
      "displayName": "20-154 Alief Akbar Purnama",
      "userId": "13121636984974420001"
     },
     "user_tz": -420
    },
    "id": "_BuMrl_KLTTe",
    "outputId": "ce3f82a6-5caf-4e09-c156-d13c0f3f25bf"
   },
   "outputs": [
    {
     "name": "stdout",
     "output_type": "stream",
     "text": [
      "uji coba\n"
     ]
    }
   ],
   "source": [
    "print(\"uji coba\")"
   ]
  },
  {
   "cell_type": "code",
   "execution_count": 2,
   "metadata": {
    "colab": {
     "base_uri": "https://localhost:8080/"
    },
    "executionInfo": {
     "elapsed": 332,
     "status": "ok",
     "timestamp": 1661602730167,
     "user": {
      "displayName": "20-154 Alief Akbar Purnama",
      "userId": "13121636984974420001"
     },
     "user_tz": -420
    },
    "id": "H5otgMrSPVYb",
    "outputId": "af8bb7fa-3a4b-4cce-c2bc-124c759a6510"
   },
   "outputs": [
    {
     "name": "stdout",
     "output_type": "stream",
     "text": [
      "uji coba 2\n"
     ]
    }
   ],
   "source": [
    "print(\"uji coba 2\")"
   ]
  }
 ],
 "metadata": {
  "colab": {
   "authorship_tag": "ABX9TyMfQ2DY1nfCywfYF3z1ppIz",
   "collapsed_sections": [],
   "name": "Tugas1.ipynb",
   "provenance": []
  },
  "kernelspec": {
   "display_name": "Python 3",
   "name": "python3"
  },
  "language_info": {
   "codemirror_mode": {
    "name": "ipython",
    "version": 3
   },
   "file_extension": ".py",
   "mimetype": "text/x-python",
   "name": "python",
   "nbconvert_exporter": "python",
   "pygments_lexer": "ipython3",
   "version": "3.7.13"
  }
 },
 "nbformat": 4,
 "nbformat_minor": 0
}